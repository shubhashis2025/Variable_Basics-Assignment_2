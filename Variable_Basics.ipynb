{
 "cells": [
  {
   "cell_type": "markdown",
   "id": "4d2f59bd-4a6b-4997-8493-0310943193d2",
   "metadata": {},
   "source": [
    "#Variables in Python"
   ]
  },
  {
   "cell_type": "code",
   "execution_count": 3,
   "id": "238c31ea-69a1-4919-90ea-ddae36eae8e6",
   "metadata": {},
   "outputs": [],
   "source": [
    "first_name= \"SHUBHASHIS\""
   ]
  },
  {
   "cell_type": "code",
   "execution_count": 16,
   "id": "b4bdde25-b22d-4376-8696-258dd00bc280",
   "metadata": {},
   "outputs": [],
   "source": [
    "last_name= 'ACHARYA'"
   ]
  },
  {
   "cell_type": "code",
   "execution_count": 7,
   "id": "72bf668c-687a-412d-ab65-cd68856bd940",
   "metadata": {},
   "outputs": [],
   "source": [
    "country = 'INDIA'"
   ]
  },
  {
   "cell_type": "code",
   "execution_count": 8,
   "id": "bd26d1f8-69cd-4a33-b713-2c3a61206c7b",
   "metadata": {},
   "outputs": [],
   "source": [
    "city = 'BALESHWAR'"
   ]
  },
  {
   "cell_type": "code",
   "execution_count": 9,
   "id": "06917f93-5b42-494e-9f3e-ebb81399a308",
   "metadata": {},
   "outputs": [],
   "source": [
    "age = 27"
   ]
  },
  {
   "cell_type": "code",
   "execution_count": 23,
   "id": "a4393171-2872-4379-b8b9-c1fe6c4f5925",
   "metadata": {},
   "outputs": [],
   "source": [
    "is_married = True"
   ]
  },
  {
   "cell_type": "code",
   "execution_count": 11,
   "id": "4aca1df9-1f79-491c-b086-06bf156ca1e5",
   "metadata": {},
   "outputs": [],
   "source": [
    "skills = ['HTML', 'CSS', 'JS', 'React', 'Python']"
   ]
  },
  {
   "cell_type": "code",
   "execution_count": 12,
   "id": "f79334f6-b0d6-4e5d-836d-4b051ae6ad5b",
   "metadata": {},
   "outputs": [],
   "source": [
    "person_info = {\n",
    "    'firstname':'Asabeneh', \n",
    "    'lastname':'Yetayeh', \n",
    "    'country':'Finland',\n",
    "    'city':'Helsinki'\n",
    "    }"
   ]
  },
  {
   "cell_type": "markdown",
   "id": "544c499f-8cc6-4def-b3dc-7d023d75de08",
   "metadata": {},
   "source": [
    "#printing the values stored in the variables"
   ]
  },
  {
   "cell_type": "code",
   "execution_count": 13,
   "id": "9d523231-7306-40a7-aee3-03058851b732",
   "metadata": {},
   "outputs": [
    {
     "name": "stdout",
     "output_type": "stream",
     "text": [
      "First name: SHUBHASHIS\n"
     ]
    }
   ],
   "source": [
    "print('First name:', first_name)"
   ]
  },
  {
   "cell_type": "code",
   "execution_count": 17,
   "id": "d81df268-4475-40ef-94d5-5aa4fe4b2cb9",
   "metadata": {},
   "outputs": [
    {
     "name": "stdout",
     "output_type": "stream",
     "text": [
      "Last name: ACHARYA\n"
     ]
    }
   ],
   "source": [
    "print('Last name:',last_name)"
   ]
  },
  {
   "cell_type": "code",
   "execution_count": 19,
   "id": "8def2750-974d-49da-9ad2-4608b383767d",
   "metadata": {},
   "outputs": [
    {
     "name": "stdout",
     "output_type": "stream",
     "text": [
      "Country: INDIA\n"
     ]
    }
   ],
   "source": [
    "print('Country:',country)"
   ]
  },
  {
   "cell_type": "code",
   "execution_count": 20,
   "id": "898f54dd-e708-4d11-8471-25d1374bdc8e",
   "metadata": {},
   "outputs": [
    {
     "name": "stdout",
     "output_type": "stream",
     "text": [
      "City Name: BALESHWAR\n"
     ]
    }
   ],
   "source": [
    "print('City Name:',city)"
   ]
  },
  {
   "cell_type": "code",
   "execution_count": 21,
   "id": "93068e30-0d6d-44bb-822b-f07756576efc",
   "metadata": {},
   "outputs": [
    {
     "name": "stdout",
     "output_type": "stream",
     "text": [
      "age: 27\n"
     ]
    }
   ],
   "source": [
    "print('age:',age)"
   ]
  },
  {
   "cell_type": "code",
   "execution_count": 24,
   "id": "d2610554-82ed-4fd0-ae39-6c295366fbd0",
   "metadata": {},
   "outputs": [
    {
     "name": "stdout",
     "output_type": "stream",
     "text": [
      "Unmarried:  True\n"
     ]
    }
   ],
   "source": [
    "print('Unmarried: ', is_married)"
   ]
  },
  {
   "cell_type": "code",
   "execution_count": 25,
   "id": "c177c892-fbf7-420e-b87a-0d6613b8d6e7",
   "metadata": {},
   "outputs": [
    {
     "name": "stdout",
     "output_type": "stream",
     "text": [
      "Skills:  ['HTML', 'CSS', 'JS', 'React', 'Python']\n"
     ]
    }
   ],
   "source": [
    "print('Skills: ', skills)"
   ]
  },
  {
   "cell_type": "code",
   "execution_count": 26,
   "id": "024f49fc-b37c-420f-bb14-e438af9923ca",
   "metadata": {},
   "outputs": [
    {
     "name": "stdout",
     "output_type": "stream",
     "text": [
      "Person information:  {'firstname': 'Asabeneh', 'lastname': 'Yetayeh', 'country': 'Finland', 'city': 'Helsinki'}\n"
     ]
    }
   ],
   "source": [
    "print('Person information: ', person_info)"
   ]
  },
  {
   "cell_type": "markdown",
   "id": "693aee61-af19-4f3c-9835-2019b3dafcb1",
   "metadata": {},
   "source": [
    "# Declaring multiple variables in one line"
   ]
  },
  {
   "cell_type": "code",
   "execution_count": 28,
   "id": "8e89adbf-f308-4861-8952-b42a08fec277",
   "metadata": {},
   "outputs": [
    {
     "name": "stdout",
     "output_type": "stream",
     "text": [
      "SHUBHASHIS ACHARYA INDIA 27 True\n",
      "First name: SHUBHASHIS\n",
      "Last name:  ACHARYA\n",
      "Country:  INDIA\n",
      "Age:  27\n",
      "Unmarried:  True\n"
     ]
    }
   ],
   "source": [
    "first_name, last_name, country, age, is_married = 'SHUBHASHIS', 'ACHARYA', 'INDIA', 27, True\n",
    "\n",
    "print(first_name, last_name, country, age, is_married)\n",
    "print('First name:', first_name)\n",
    "print('Last name: ', last_name)\n",
    "print('Country: ', country)\n",
    "print('Age: ', age)\n",
    "print('Unmarried: ', is_married)"
   ]
  },
  {
   "cell_type": "code",
   "execution_count": null,
   "id": "cf1ce7cc-726c-4f29-8da4-9a363415f059",
   "metadata": {},
   "outputs": [],
   "source": []
  },
  {
   "cell_type": "code",
   "execution_count": null,
   "id": "8a835aab-4b37-4182-be61-bb5898a95a3f",
   "metadata": {},
   "outputs": [],
   "source": []
  },
  {
   "cell_type": "code",
   "execution_count": null,
   "id": "5f35cfef-926f-4572-982f-60c43faa0b51",
   "metadata": {},
   "outputs": [],
   "source": []
  },
  {
   "cell_type": "code",
   "execution_count": null,
   "id": "3f7d4a7b-8c7a-44bb-aeb5-350affdc8360",
   "metadata": {},
   "outputs": [],
   "source": []
  },
  {
   "cell_type": "code",
   "execution_count": null,
   "id": "7a2bed36-8f4d-4233-8824-8b54961d5fda",
   "metadata": {},
   "outputs": [],
   "source": []
  },
  {
   "cell_type": "code",
   "execution_count": null,
   "id": "c9a368de-e9e8-421c-96a9-d0b5bc4bae8d",
   "metadata": {},
   "outputs": [],
   "source": []
  },
  {
   "cell_type": "code",
   "execution_count": null,
   "id": "c45362ee-c133-4220-8267-85e9b6b597e8",
   "metadata": {},
   "outputs": [],
   "source": []
  },
  {
   "cell_type": "code",
   "execution_count": null,
   "id": "732195f0-d10b-4f64-b77e-9e3fe3ba1233",
   "metadata": {},
   "outputs": [],
   "source": []
  },
  {
   "cell_type": "code",
   "execution_count": null,
   "id": "974b01d5-50de-49bc-bc5a-04d760431356",
   "metadata": {},
   "outputs": [],
   "source": []
  },
  {
   "cell_type": "code",
   "execution_count": null,
   "id": "3e9945dd-c55f-48e0-81af-5d24371dc2fe",
   "metadata": {},
   "outputs": [],
   "source": []
  },
  {
   "cell_type": "code",
   "execution_count": null,
   "id": "6ecdfdbd-94cd-4caf-b9ac-955790929eb7",
   "metadata": {},
   "outputs": [],
   "source": []
  },
  {
   "cell_type": "code",
   "execution_count": null,
   "id": "dd4a7229-6dff-40a7-b507-0a8e6baf5a10",
   "metadata": {},
   "outputs": [],
   "source": []
  },
  {
   "cell_type": "code",
   "execution_count": null,
   "id": "afa88079-1c40-40b6-8a80-09e572af710a",
   "metadata": {},
   "outputs": [],
   "source": []
  },
  {
   "cell_type": "code",
   "execution_count": null,
   "id": "c2f1f37b-467f-4dd1-8393-42956d94d50a",
   "metadata": {},
   "outputs": [],
   "source": []
  },
  {
   "cell_type": "code",
   "execution_count": null,
   "id": "2019f294-ef1f-4dde-95d6-9773f0aa0350",
   "metadata": {},
   "outputs": [],
   "source": []
  },
  {
   "cell_type": "code",
   "execution_count": null,
   "id": "9157c1fb-a537-4247-abca-b26e065df473",
   "metadata": {},
   "outputs": [],
   "source": []
  },
  {
   "cell_type": "code",
   "execution_count": null,
   "id": "5e9f7bd1-5566-4703-9cc4-31134b0921ce",
   "metadata": {},
   "outputs": [],
   "source": []
  },
  {
   "cell_type": "code",
   "execution_count": null,
   "id": "da05acd7-02fd-4b29-830d-50c3c14945ef",
   "metadata": {},
   "outputs": [],
   "source": []
  },
  {
   "cell_type": "code",
   "execution_count": null,
   "id": "53aa7281-4337-4d50-8a4d-b8aa60971505",
   "metadata": {},
   "outputs": [],
   "source": []
  },
  {
   "cell_type": "code",
   "execution_count": null,
   "id": "6ba5f70f-7655-43a9-9b06-a1ffa3e48912",
   "metadata": {},
   "outputs": [],
   "source": []
  },
  {
   "cell_type": "code",
   "execution_count": null,
   "id": "b469d107-cbcc-4665-8128-a0a10c16574a",
   "metadata": {},
   "outputs": [],
   "source": []
  },
  {
   "cell_type": "code",
   "execution_count": null,
   "id": "e8172d56-5de3-43ed-9f4d-3f83311fcf0c",
   "metadata": {},
   "outputs": [],
   "source": []
  },
  {
   "cell_type": "code",
   "execution_count": null,
   "id": "9a71dce6-7133-46be-bbcb-16200c18453c",
   "metadata": {},
   "outputs": [],
   "source": []
  },
  {
   "cell_type": "code",
   "execution_count": null,
   "id": "58640441-92c9-48e5-b2f1-266350cce76e",
   "metadata": {},
   "outputs": [],
   "source": []
  },
  {
   "cell_type": "code",
   "execution_count": null,
   "id": "b7665cff-fdc4-4735-a075-f68bb9cc94e2",
   "metadata": {},
   "outputs": [],
   "source": []
  },
  {
   "cell_type": "code",
   "execution_count": null,
   "id": "a8366663-320d-4bd3-b61c-74a845ebf7eb",
   "metadata": {},
   "outputs": [],
   "source": []
  },
  {
   "cell_type": "code",
   "execution_count": null,
   "id": "48b677a9-e582-4e53-aa83-d094b4d553e6",
   "metadata": {},
   "outputs": [],
   "source": []
  },
  {
   "cell_type": "code",
   "execution_count": null,
   "id": "b3734f7e-7632-4739-a25a-b9ef8914ba73",
   "metadata": {},
   "outputs": [],
   "source": []
  },
  {
   "cell_type": "code",
   "execution_count": null,
   "id": "343bfa28-d8a6-49fd-900f-885307c9bee3",
   "metadata": {},
   "outputs": [],
   "source": []
  },
  {
   "cell_type": "code",
   "execution_count": null,
   "id": "9f21d779-4475-4b42-86a1-10eb4a4fea70",
   "metadata": {},
   "outputs": [],
   "source": []
  },
  {
   "cell_type": "code",
   "execution_count": null,
   "id": "4a8a3b33-9128-4013-b3b9-7b636ca0dd89",
   "metadata": {},
   "outputs": [],
   "source": []
  },
  {
   "cell_type": "code",
   "execution_count": null,
   "id": "50300666-23b5-42f3-8c30-65f0a21cb7a1",
   "metadata": {},
   "outputs": [],
   "source": []
  }
 ],
 "metadata": {
  "kernelspec": {
   "display_name": "Python 3 (ipykernel)",
   "language": "python",
   "name": "python3"
  },
  "language_info": {
   "codemirror_mode": {
    "name": "ipython",
    "version": 3
   },
   "file_extension": ".py",
   "mimetype": "text/x-python",
   "name": "python",
   "nbconvert_exporter": "python",
   "pygments_lexer": "ipython3",
   "version": "3.12.7"
  }
 },
 "nbformat": 4,
 "nbformat_minor": 5
}
